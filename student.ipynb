{
 "cells": [
  {
   "cell_type": "markdown",
   "metadata": {},
   "source": [
    "## Final Project Submission\n",
    "\n",
    "\n",
    "* Student name: Asad Rahman\n",
    "* Student pace: full time\n",
    "* Scheduled project review date/time: July 18th, 2019\n",
    "* Instructor name: Victor Geislinger\n"
   ]
  },
  {
   "cell_type": "markdown",
   "metadata": {},
   "source": [
    "### Business Case"
   ]
  },
  {
   "cell_type": "markdown",
   "metadata": {},
   "source": [
    "Create a neural network that can examine X-Ray images to detect Pneumonia quickly and effectivly"
   ]
  },
  {
   "cell_type": "markdown",
   "metadata": {},
   "source": [
    "###### Import the libraries"
   ]
  },
  {
   "cell_type": "markdown",
   "metadata": {},
   "source": [
    "We start by importing some of the packages and modules that we intend to use."
   ]
  },
  {
   "cell_type": "code",
   "execution_count": 1,
   "metadata": {},
   "outputs": [
    {
     "name": "stderr",
     "output_type": "stream",
     "text": [
      "Using TensorFlow backend.\n"
     ]
    }
   ],
   "source": [
    "import os, shutil\n",
    "import time\n",
    "import matplotlib.pyplot as plt\n",
    "import scipy\n",
    "import numpy as np\n",
    "from PIL import Image\n",
    "from scipy import ndimage\n",
    "from keras.preprocessing.image import ImageDataGenerator, array_to_img, img_to_array, load_img\n",
    "\n",
    "np.random.seed(123)"
   ]
  },
  {
   "cell_type": "markdown",
   "metadata": {},
   "source": [
    "######  Loading the Images"
   ]
  },
  {
   "cell_type": "markdown",
   "metadata": {},
   "source": [
    "The original dataset is from kaggle. The images are that of xray images for pneumonia, which we will be creating a model to distinguish healthy and infected cases. The images were downloaded from https://www.kaggle.com/paultimothymooney/chest-xray-pneumonia."
   ]
  },
  {
   "cell_type": "code",
   "execution_count": 2,
   "metadata": {},
   "outputs": [],
   "source": [
    "train_folder = \"chest_xray/train\"\n",
    "train_pneumonia = \"chest_xray/train/PNEUMONIA\"\n",
    "train_normal = \"chest_xray/train/NORMAL\"\n",
    "\n",
    "test_folder = \"chest_xray/test\"\n",
    "test_pneumonia = \"chest_xray/test/PNEUMONIA\"\n",
    "test_normal = \"chest_xray/test/NORMAL\"\n",
    "\n",
    "val_folder = \"chest_xray/val\"\n",
    "val_pneumonia = \"chest_xray/val/PNEUMONIA\"\n",
    "val_normal = \"chest_xray/val/NORMAL\""
   ]
  },
  {
   "cell_type": "code",
   "execution_count": 3,
   "metadata": {},
   "outputs": [
    {
     "name": "stdout",
     "output_type": "stream",
     "text": [
      "There are 3876 pneumonia images in the training set\n"
     ]
    }
   ],
   "source": [
    "print(\"There are\", len(os.listdir(train_pneumonia)), \"pneumonia images in the training set\")"
   ]
  },
  {
   "cell_type": "code",
   "execution_count": 4,
   "metadata": {},
   "outputs": [
    {
     "name": "stdout",
     "output_type": "stream",
     "text": [
      "There are 9 pneumonia images in the validation set\n"
     ]
    }
   ],
   "source": [
    "print(\"There are\", len(os.listdir(val_pneumonia)), \"pneumonia images in the validation set\")"
   ]
  },
  {
   "cell_type": "code",
   "execution_count": 5,
   "metadata": {},
   "outputs": [
    {
     "name": "stdout",
     "output_type": "stream",
     "text": [
      "There are 390 pneumonia images in the test set\n"
     ]
    }
   ],
   "source": [
    "print('There are', len(os.listdir(test_pneumonia)), 'pneumonia images in the test set')"
   ]
  },
  {
   "cell_type": "code",
   "execution_count": 6,
   "metadata": {},
   "outputs": [
    {
     "name": "stdout",
     "output_type": "stream",
     "text": [
      "There are 1342 images without pneumonia in the train set\n"
     ]
    }
   ],
   "source": [
    "print('There are', len(os.listdir(train_normal)), 'images without pneumonia in the train set')"
   ]
  },
  {
   "cell_type": "code",
   "execution_count": 7,
   "metadata": {},
   "outputs": [
    {
     "name": "stdout",
     "output_type": "stream",
     "text": [
      "There are 9 images without pneumonia in the validation set\n"
     ]
    }
   ],
   "source": [
    "print('There are', len(os.listdir(val_normal)), 'images without pneumonia in the validation set')"
   ]
  },
  {
   "cell_type": "code",
   "execution_count": 8,
   "metadata": {},
   "outputs": [
    {
     "name": "stdout",
     "output_type": "stream",
     "text": [
      "There are 234 images without pneumonia in the test set\n"
     ]
    }
   ],
   "source": [
    "print('There are', len(os.listdir(test_normal)), 'images without pneumonia in the test set')"
   ]
  },
  {
   "cell_type": "markdown",
   "metadata": {},
   "source": [
    "We sort our images properly, reducing the image size to 150x150 to be more easily testable"
   ]
  },
  {
   "cell_type": "code",
   "execution_count": 9,
   "metadata": {},
   "outputs": [
    {
     "name": "stdout",
     "output_type": "stream",
     "text": [
      "Found 624 images belonging to 2 classes.\n",
      "Found 16 images belonging to 2 classes.\n",
      "Found 5216 images belonging to 2 classes.\n"
     ]
    }
   ],
   "source": [
    "# get all the data in the directory /test (624 images), and reshape them\n",
    "test_generator = ImageDataGenerator(rescale=1./255,horizontal_flip=True).flow_from_directory(\n",
    "        test_folder, \n",
    "        target_size=(150, 150), batch_size = 624) \n",
    "\n",
    "# get all the data in the directory /validation (18 images), and reshape them\n",
    "val_generator = ImageDataGenerator(rescale=1./255).flow_from_directory(\n",
    "        val_folder, \n",
    "        target_size=(150, 150), batch_size = 18)\n",
    "\n",
    "# get all the data in the directory /train (5218 images), and reshape them\n",
    "train_generator = ImageDataGenerator(rescale=1./255).flow_from_directory(\n",
    "        train_folder, \n",
    "        target_size=(150, 150), batch_size=5218)"
   ]
  },
  {
   "cell_type": "code",
   "execution_count": 10,
   "metadata": {},
   "outputs": [],
   "source": [
    "# create the data sets\n",
    "train_images, train_labels = next(train_generator)\n",
    "test_images, test_labels = next(test_generator)\n",
    "val_images, val_labels = next(val_generator)"
   ]
  },
  {
   "cell_type": "code",
   "execution_count": 11,
   "metadata": {},
   "outputs": [
    {
     "name": "stdout",
     "output_type": "stream",
     "text": [
      "Number of training samples: 5216\n",
      "Number of testing samples: 624\n",
      "Number of validation samples: 16\n",
      "train_images shape: (5216, 150, 150, 3)\n",
      "train_labels shape: (5216, 2)\n",
      "test_images shape: (624, 150, 150, 3)\n",
      "test_labels shape: (624, 2)\n",
      "val_images shape: (16, 150, 150, 3)\n",
      "val_labels shape: (16, 2)\n"
     ]
    }
   ],
   "source": [
    "# Explore your dataset again\n",
    "m_train = train_images.shape[0]\n",
    "num_px = train_images.shape[1]\n",
    "m_test = test_images.shape[0]\n",
    "m_val = val_images.shape[0]\n",
    "\n",
    "print (\"Number of training samples: \" + str(m_train))\n",
    "print (\"Number of testing samples: \" + str(m_test))\n",
    "print (\"Number of validation samples: \" + str(m_val))\n",
    "print (\"train_images shape: \" + str(train_images.shape))\n",
    "print (\"train_labels shape: \" + str(train_labels.shape))\n",
    "print (\"test_images shape: \" + str(test_images.shape))\n",
    "print (\"test_labels shape: \" + str(test_labels.shape))\n",
    "print (\"val_images shape: \" + str(val_images.shape))\n",
    "print (\"val_labels shape: \" + str(val_labels.shape))"
   ]
  },
  {
   "cell_type": "code",
   "execution_count": 12,
   "metadata": {},
   "outputs": [
    {
     "name": "stdout",
     "output_type": "stream",
     "text": [
      "(5216, 67500)\n",
      "(624, 67500)\n",
      "(16, 67500)\n"
     ]
    }
   ],
   "source": [
    "train_img = train_images.reshape(train_images.shape[0], -1)\n",
    "test_img = test_images.reshape(test_images.shape[0], -1)\n",
    "val_img = val_images.reshape(val_images.shape[0], -1)\n",
    "\n",
    "print(train_img.shape)\n",
    "print(test_img.shape)\n",
    "print(val_img.shape)"
   ]
  },
  {
   "cell_type": "code",
   "execution_count": 13,
   "metadata": {},
   "outputs": [],
   "source": [
    "train_y = np.reshape(train_labels[:,0], (5216,1))\n",
    "test_y = np.reshape(test_labels[:,0], (624,1))\n",
    "val_y = np.reshape(val_labels[:,0], (16,1))"
   ]
  },
  {
   "cell_type": "markdown",
   "metadata": {},
   "source": [
    "###### Creating the Model"
   ]
  },
  {
   "cell_type": "markdown",
   "metadata": {},
   "source": [
    "Using Keras, we built a fully connected (Dense) layer network with relu activations\n",
    "\n",
    "We used 50 units in the first layer, 25 in the second layer, 12 in the third, all with relu activations."
   ]
  },
  {
   "cell_type": "code",
   "execution_count": 14,
   "metadata": {},
   "outputs": [],
   "source": [
    "from keras import models\n",
    "from keras import layers\n",
    "from keras import optimizers\n",
    "np.random.seed(123)\n",
    "model = models.Sequential()\n",
    "model.add(layers.Dense(50, activation='relu', input_shape=(67500,))) #2 hidden layers\n",
    "model.add(layers.Dense(25, activation='relu'))\n",
    "model.add(layers.Dense(12, activation='relu'))\n",
    "model.add(layers.Dense(1, activation='sigmoid'))"
   ]
  },
  {
   "cell_type": "markdown",
   "metadata": {},
   "source": [
    "###### Compile and train the Model"
   ]
  },
  {
   "cell_type": "markdown",
   "metadata": {},
   "source": [
    "In the compiler, we passed an optimizer, loss function, and metrics. We trained the model for 100 epochs in mini-batches of 32 samples.\n",
    "\n",
    "We also introduce our validation data to the model when we train it."
   ]
  },
  {
   "cell_type": "code",
   "execution_count": 15,
   "metadata": {},
   "outputs": [
    {
     "name": "stdout",
     "output_type": "stream",
     "text": [
      "Train on 5216 samples, validate on 16 samples\n",
      "Epoch 1/100\n",
      "5216/5216 [==============================] - ETA: 0s - loss: 0.4807 - acc: 0.788 - 7s 1ms/step - loss: 0.4780 - acc: 0.7901 - val_loss: 1.5847 - val_acc: 0.5000\n",
      "Epoch 2/100\n",
      "5216/5216 [==============================] - 7s 1ms/step - loss: 0.3340 - acc: 0.8723 - val_loss: 0.5290 - val_acc: 0.8125\n",
      "Epoch 3/100\n",
      "5216/5216 [==============================] - 7s 1ms/step - loss: 0.2505 - acc: 0.9001 - val_loss: 0.3939 - val_acc: 0.8125\n",
      "Epoch 4/100\n",
      "5216/5216 [==============================] - 7s 1ms/step - loss: 0.2078 - acc: 0.9197 - val_loss: 0.9519 - val_acc: 0.6875\n",
      "Epoch 5/100\n",
      "5216/5216 [==============================] - 7s 1ms/step - loss: 0.1926 - acc: 0.9262 - val_loss: 0.5192 - val_acc: 0.8125\n",
      "Epoch 6/100\n",
      "5216/5216 [==============================] - 7s 1ms/step - loss: 0.1803 - acc: 0.9270 - val_loss: 0.4778 - val_acc: 0.8125\n",
      "Epoch 7/100\n",
      "5216/5216 [==============================] - 7s 1ms/step - loss: 0.1605 - acc: 0.9365 - val_loss: 0.6776 - val_acc: 0.7500\n",
      "Epoch 8/100\n",
      "5216/5216 [==============================] - 7s 1ms/step - loss: 0.1447 - acc: 0.9429 - val_loss: 0.2286 - val_acc: 0.9375\n",
      "Epoch 9/100\n",
      "5216/5216 [==============================] - 7s 1ms/step - loss: 0.1541 - acc: 0.9362 - val_loss: 0.3118 - val_acc: 0.8750\n",
      "Epoch 10/100\n",
      "5216/5216 [==============================] - 7s 1ms/step - loss: 0.1607 - acc: 0.9400 - val_loss: 2.6915 - val_acc: 0.5000\n",
      "Epoch 11/100\n",
      "5216/5216 [==============================] - 7s 1ms/step - loss: 0.1516 - acc: 0.9427 - val_loss: 0.4204 - val_acc: 0.8125\n",
      "Epoch 12/100\n",
      "5216/5216 [==============================] - 7s 1ms/step - loss: 0.1283 - acc: 0.9515 - val_loss: 0.9260 - val_acc: 0.6250\n",
      "Epoch 13/100\n",
      "5216/5216 [==============================] - 7s 1ms/step - loss: 0.1374 - acc: 0.9480 - val_loss: 0.2392 - val_acc: 0.9375\n",
      "Epoch 14/100\n",
      "5216/5216 [==============================] - 7s 1ms/step - loss: 0.1271 - acc: 0.9517 - val_loss: 0.2718 - val_acc: 0.9375\n",
      "Epoch 15/100\n",
      "5216/5216 [==============================] - 7s 1ms/step - loss: 0.1279 - acc: 0.9484 - val_loss: 0.2061 - val_acc: 0.9375\n",
      "Epoch 16/100\n",
      "5216/5216 [==============================] - 7s 1ms/step - loss: 0.1227 - acc: 0.9526 - val_loss: 0.3111 - val_acc: 0.8750\n",
      "Epoch 17/100\n",
      "5216/5216 [==============================] - 7s 1ms/step - loss: 0.1211 - acc: 0.9515 - val_loss: 0.1885 - val_acc: 0.9375\n",
      "Epoch 18/100\n",
      "5216/5216 [==============================] - 7s 1ms/step - loss: 0.1195 - acc: 0.9544 - val_loss: 0.3087 - val_acc: 0.9375\n",
      "Epoch 19/100\n",
      "5216/5216 [==============================] - 7s 1ms/step - loss: 0.1231 - acc: 0.9538 - val_loss: 0.5727 - val_acc: 0.6875\n",
      "Epoch 20/100\n",
      "5216/5216 [==============================] - 7s 1ms/step - loss: 0.1199 - acc: 0.9555 - val_loss: 0.1784 - val_acc: 0.9375\n",
      "Epoch 21/100\n",
      "5216/5216 [==============================] - 7s 1ms/step - loss: 0.1187 - acc: 0.9521 - val_loss: 0.2721 - val_acc: 0.9375\n",
      "Epoch 22/100\n",
      "5216/5216 [==============================] - 7s 1ms/step - loss: 0.1125 - acc: 0.9601 - val_loss: 0.2935 - val_acc: 0.9375\n",
      "Epoch 23/100\n",
      "5216/5216 [==============================] - 7s 1ms/step - loss: 0.1125 - acc: 0.9574 - val_loss: 0.2300 - val_acc: 0.9375\n",
      "Epoch 24/100\n",
      "5216/5216 [==============================] - 7s 1ms/step - loss: 0.1107 - acc: 0.9580 - val_loss: 0.5613 - val_acc: 0.7500\n",
      "Epoch 25/100\n",
      "5216/5216 [==============================] - 7s 1ms/step - loss: 0.1041 - acc: 0.9569 - val_loss: 0.5201 - val_acc: 0.7500\n",
      "Epoch 26/100\n",
      "5216/5216 [==============================] - 7s 1ms/step - loss: 0.1207 - acc: 0.9503 - val_loss: 0.2296 - val_acc: 0.9375\n",
      "Epoch 27/100\n",
      "5216/5216 [==============================] - 7s 1ms/step - loss: 0.1081 - acc: 0.9580 - val_loss: 0.2753 - val_acc: 0.9375\n",
      "Epoch 28/100\n",
      "5216/5216 [==============================] - 7s 1ms/step - loss: 0.1084 - acc: 0.9582 - val_loss: 0.4424 - val_acc: 0.8125\n",
      "Epoch 29/100\n",
      "5216/5216 [==============================] - 7s 1ms/step - loss: 0.1035 - acc: 0.9626 - val_loss: 0.1992 - val_acc: 0.9375\n",
      "Epoch 30/100\n",
      "5216/5216 [==============================] - 7s 1ms/step - loss: 0.1089 - acc: 0.9586 - val_loss: 0.4848 - val_acc: 0.8125\n",
      "Epoch 31/100\n",
      "5216/5216 [==============================] - 7s 1ms/step - loss: 0.1040 - acc: 0.9601 - val_loss: 0.3522 - val_acc: 0.8750\n",
      "Epoch 32/100\n",
      "5216/5216 [==============================] - 7s 1ms/step - loss: 0.1016 - acc: 0.9603 - val_loss: 0.5540 - val_acc: 0.7500\n",
      "Epoch 33/100\n",
      "5216/5216 [==============================] - 7s 1ms/step - loss: 0.1000 - acc: 0.9632 - val_loss: 0.3779 - val_acc: 0.8125\n",
      "Epoch 34/100\n",
      "5216/5216 [==============================] - 7s 1ms/step - loss: 0.1025 - acc: 0.9607 - val_loss: 0.3211 - val_acc: 0.9375\n",
      "Epoch 35/100\n",
      "5216/5216 [==============================] - 7s 1ms/step - loss: 0.1058 - acc: 0.9601 - val_loss: 0.3287 - val_acc: 0.8125\n",
      "Epoch 36/100\n",
      "5216/5216 [==============================] - 7s 1ms/step - loss: 0.0944 - acc: 0.9664 - val_loss: 0.5257 - val_acc: 0.7500\n",
      "Epoch 37/100\n",
      "5216/5216 [==============================] - 7s 1ms/step - loss: 0.0994 - acc: 0.9605 - val_loss: 0.3725 - val_acc: 0.8125\n",
      "Epoch 38/100\n",
      "5216/5216 [==============================] - 7s 1ms/step - loss: 0.1000 - acc: 0.9609 - val_loss: 0.2246 - val_acc: 0.9375\n",
      "Epoch 39/100\n",
      "5216/5216 [==============================] - 7s 1ms/step - loss: 0.0973 - acc: 0.9620 - val_loss: 0.2614 - val_acc: 0.9375\n",
      "Epoch 40/100\n",
      "5216/5216 [==============================] - 7s 1ms/step - loss: 0.1010 - acc: 0.9605 - val_loss: 0.3066 - val_acc: 0.8750\n",
      "Epoch 41/100\n",
      "5216/5216 [==============================] - 7s 1ms/step - loss: 0.0927 - acc: 0.9661 - val_loss: 0.2008 - val_acc: 0.9375\n",
      "Epoch 42/100\n",
      "5216/5216 [==============================] - 7s 1ms/step - loss: 0.1006 - acc: 0.9622 - val_loss: 0.2629 - val_acc: 0.9375\n",
      "Epoch 43/100\n",
      "5216/5216 [==============================] - 7s 1ms/step - loss: 0.0898 - acc: 0.9630 - val_loss: 0.2494 - val_acc: 0.9375\n",
      "Epoch 44/100\n",
      "5216/5216 [==============================] - 7s 1ms/step - loss: 0.0969 - acc: 0.9622 - val_loss: 0.3961 - val_acc: 0.8125\n",
      "Epoch 45/100\n",
      "5216/5216 [==============================] - 7s 1ms/step - loss: 0.0954 - acc: 0.9647 - val_loss: 0.4072 - val_acc: 0.8125\n",
      "Epoch 46/100\n",
      "5216/5216 [==============================] - 7s 1ms/step - loss: 0.0889 - acc: 0.9684 - val_loss: 0.8603 - val_acc: 0.6875\n",
      "Epoch 47/100\n",
      "5216/5216 [==============================] - 7s 1ms/step - loss: 0.1158 - acc: 0.9580 - val_loss: 0.6681 - val_acc: 0.6875\n",
      "Epoch 48/100\n",
      "5216/5216 [==============================] - 7s 1ms/step - loss: 0.0894 - acc: 0.9659 - val_loss: 0.4122 - val_acc: 0.8125\n",
      "Epoch 49/100\n",
      "5216/5216 [==============================] - 7s 1ms/step - loss: 0.0889 - acc: 0.9676 - val_loss: 0.2117 - val_acc: 0.9375\n",
      "Epoch 50/100\n",
      "5216/5216 [==============================] - 7s 1ms/step - loss: 0.0916 - acc: 0.9641 - val_loss: 0.3361 - val_acc: 0.8750\n",
      "Epoch 51/100\n",
      "5216/5216 [==============================] - 7s 1ms/step - loss: 0.0834 - acc: 0.9697 - val_loss: 0.1823 - val_acc: 0.9375\n",
      "Epoch 52/100\n",
      "5216/5216 [==============================] - 7s 1ms/step - loss: 0.0922 - acc: 0.9634 - val_loss: 0.1692 - val_acc: 0.9375\n",
      "Epoch 53/100\n",
      "5216/5216 [==============================] - 7s 1ms/step - loss: 0.0828 - acc: 0.9678 - val_loss: 0.1615 - val_acc: 0.9375\n",
      "Epoch 54/100\n",
      "5216/5216 [==============================] - 7s 1ms/step - loss: 0.0917 - acc: 0.9657 - val_loss: 0.7194 - val_acc: 0.6875\n",
      "Epoch 55/100\n",
      "5216/5216 [==============================] - 7s 1ms/step - loss: 0.0855 - acc: 0.9666 - val_loss: 0.1830 - val_acc: 0.9375\n",
      "Epoch 56/100\n",
      "5216/5216 [==============================] - 7s 1ms/step - loss: 0.0853 - acc: 0.9676 - val_loss: 0.2844 - val_acc: 0.8750\n",
      "Epoch 57/100\n",
      "5216/5216 [==============================] - 7s 1ms/step - loss: 0.0922 - acc: 0.9666 - val_loss: 0.4868 - val_acc: 0.7500\n",
      "Epoch 58/100\n",
      "5216/5216 [==============================] - 7s 1ms/step - loss: 0.0835 - acc: 0.9672 - val_loss: 0.2127 - val_acc: 0.9375\n",
      "Epoch 59/100\n",
      "5216/5216 [==============================] - 7s 1ms/step - loss: 0.0928 - acc: 0.9641 - val_loss: 0.3306 - val_acc: 0.8750\n",
      "Epoch 60/100\n",
      "5216/5216 [==============================] - 7s 1ms/step - loss: 0.0798 - acc: 0.9699 - val_loss: 0.3933 - val_acc: 0.8125\n",
      "Epoch 61/100\n",
      "5216/5216 [==============================] - 7s 1ms/step - loss: 0.0841 - acc: 0.9676 - val_loss: 0.2692 - val_acc: 0.8750\n",
      "Epoch 62/100\n",
      "5216/5216 [==============================] - 7s 1ms/step - loss: 0.0835 - acc: 0.9686 - val_loss: 0.1853 - val_acc: 0.9375\n",
      "Epoch 63/100\n",
      "5216/5216 [==============================] - 7s 1ms/step - loss: 0.0800 - acc: 0.9689 - val_loss: 0.2617 - val_acc: 0.9375\n",
      "Epoch 64/100\n",
      "5216/5216 [==============================] - ETA: 0s - loss: 0.0789 - acc: 0.969 - 7s 1ms/step - loss: 0.0787 - acc: 0.9695 - val_loss: 0.4124 - val_acc: 0.7500\n",
      "Epoch 65/100\n",
      "5216/5216 [==============================] - 7s 1ms/step - loss: 0.0865 - acc: 0.9676 - val_loss: 0.2037 - val_acc: 0.9375\n",
      "Epoch 66/100\n",
      "5216/5216 [==============================] - 7s 1ms/step - loss: 0.0814 - acc: 0.9701 - val_loss: 0.7660 - val_acc: 0.6875\n",
      "Epoch 67/100\n",
      "5216/5216 [==============================] - 7s 1ms/step - loss: 0.0816 - acc: 0.9664 - val_loss: 0.1774 - val_acc: 0.9375\n",
      "Epoch 68/100\n",
      "5216/5216 [==============================] - 7s 1ms/step - loss: 0.0809 - acc: 0.9699 - val_loss: 0.1857 - val_acc: 0.9375\n",
      "Epoch 69/100\n",
      "5216/5216 [==============================] - 7s 1ms/step - loss: 0.0831 - acc: 0.9663 - val_loss: 0.4484 - val_acc: 0.7500\n",
      "Epoch 70/100\n",
      "5216/5216 [==============================] - 7s 1ms/step - loss: 0.0813 - acc: 0.9701 - val_loss: 0.5196 - val_acc: 0.7500\n",
      "Epoch 71/100\n",
      "5216/5216 [==============================] - 7s 1ms/step - loss: 0.0766 - acc: 0.9718 - val_loss: 0.9003 - val_acc: 0.6875\n",
      "Epoch 72/100\n",
      "5216/5216 [==============================] - 7s 1ms/step - loss: 0.0735 - acc: 0.9724 - val_loss: 0.5906 - val_acc: 0.7500\n",
      "Epoch 73/100\n",
      "5216/5216 [==============================] - 7s 1ms/step - loss: 0.0731 - acc: 0.9735 - val_loss: 0.1882 - val_acc: 0.9375\n",
      "Epoch 74/100\n",
      "5216/5216 [==============================] - 7s 1ms/step - loss: 0.0769 - acc: 0.9705 - val_loss: 0.6943 - val_acc: 0.7500\n",
      "Epoch 75/100\n",
      "5216/5216 [==============================] - 7s 1ms/step - loss: 0.0757 - acc: 0.9705 - val_loss: 0.1863 - val_acc: 0.9375\n",
      "Epoch 76/100\n",
      "5216/5216 [==============================] - 7s 1ms/step - loss: 0.0784 - acc: 0.9699 - val_loss: 0.3328 - val_acc: 0.8750\n",
      "Epoch 77/100\n",
      "5216/5216 [==============================] - 7s 1ms/step - loss: 0.0735 - acc: 0.9739 - val_loss: 0.1899 - val_acc: 0.9375\n",
      "Epoch 78/100\n",
      "5216/5216 [==============================] - 7s 1ms/step - loss: 0.0765 - acc: 0.9720 - val_loss: 0.3614 - val_acc: 0.8125\n",
      "Epoch 79/100\n",
      "5216/5216 [==============================] - 7s 1ms/step - loss: 0.0736 - acc: 0.9726 - val_loss: 0.2543 - val_acc: 0.9375\n",
      "Epoch 80/100\n",
      "5216/5216 [==============================] - 7s 1ms/step - loss: 0.0785 - acc: 0.9711 - val_loss: 0.1665 - val_acc: 0.9375\n",
      "Epoch 81/100\n",
      "5216/5216 [==============================] - 7s 1ms/step - loss: 0.0684 - acc: 0.9758 - val_loss: 0.1840 - val_acc: 0.9375\n",
      "Epoch 82/100\n",
      "5216/5216 [==============================] - 7s 1ms/step - loss: 0.0702 - acc: 0.9732 - val_loss: 0.3186 - val_acc: 0.8750\n",
      "Epoch 83/100\n",
      "5216/5216 [==============================] - 7s 1ms/step - loss: 0.0684 - acc: 0.9730 - val_loss: 0.3520 - val_acc: 0.8750\n",
      "Epoch 84/100\n",
      "5216/5216 [==============================] - 7s 1ms/step - loss: 0.0659 - acc: 0.9762 - val_loss: 0.3961 - val_acc: 0.8125\n",
      "Epoch 85/100\n",
      "5216/5216 [==============================] - 7s 1ms/step - loss: 0.0769 - acc: 0.9695 - val_loss: 0.3465 - val_acc: 0.8750\n",
      "Epoch 86/100\n",
      "5216/5216 [==============================] - 7s 1ms/step - loss: 0.0656 - acc: 0.9747 - val_loss: 0.5998 - val_acc: 0.7500\n",
      "Epoch 87/100\n",
      "5216/5216 [==============================] - 7s 1ms/step - loss: 0.0975 - acc: 0.9640 - val_loss: 0.4664 - val_acc: 0.7500\n",
      "Epoch 88/100\n",
      "5216/5216 [==============================] - 7s 1ms/step - loss: 0.0675 - acc: 0.9772 - val_loss: 0.2391 - val_acc: 0.9375\n",
      "Epoch 89/100\n",
      "5216/5216 [==============================] - 7s 1ms/step - loss: 0.0701 - acc: 0.9730 - val_loss: 0.2697 - val_acc: 0.8750\n",
      "Epoch 90/100\n",
      "5216/5216 [==============================] - 7s 1ms/step - loss: 0.0702 - acc: 0.9728 - val_loss: 0.6232 - val_acc: 0.6875\n",
      "Epoch 91/100\n",
      "5216/5216 [==============================] - 7s 1ms/step - loss: 0.0684 - acc: 0.9766 - val_loss: 0.3193 - val_acc: 0.8750\n",
      "Epoch 92/100\n",
      "5216/5216 [==============================] - 7s 1ms/step - loss: 0.0676 - acc: 0.9734 - val_loss: 0.4649 - val_acc: 0.7500\n",
      "Epoch 93/100\n",
      "5216/5216 [==============================] - 7s 1ms/step - loss: 0.0599 - acc: 0.9776 - val_loss: 0.7111 - val_acc: 0.6875\n",
      "Epoch 94/100\n",
      "5216/5216 [==============================] - 7s 1ms/step - loss: 0.0780 - acc: 0.9699 - val_loss: 0.4488 - val_acc: 0.7500\n",
      "Epoch 95/100\n",
      "5216/5216 [==============================] - 7s 1ms/step - loss: 0.0648 - acc: 0.9745 - val_loss: 0.1331 - val_acc: 0.9375\n",
      "Epoch 96/100\n",
      "5216/5216 [==============================] - 7s 1ms/step - loss: 0.0681 - acc: 0.9720 - val_loss: 0.4456 - val_acc: 0.8125\n",
      "Epoch 97/100\n",
      "5216/5216 [==============================] - 7s 1ms/step - loss: 0.0657 - acc: 0.9751 - val_loss: 0.7433 - val_acc: 0.7500\n",
      "Epoch 98/100\n",
      "5216/5216 [==============================] - 7s 1ms/step - loss: 0.0594 - acc: 0.9755 - val_loss: 0.4096 - val_acc: 0.8125\n",
      "Epoch 99/100\n",
      "5216/5216 [==============================] - 7s 1ms/step - loss: 0.0563 - acc: 0.9770 - val_loss: 0.2571 - val_acc: 0.8750\n",
      "Epoch 100/100\n",
      "5216/5216 [==============================] - 7s 1ms/step - loss: 0.0690 - acc: 0.9724 - val_loss: 0.4036 - val_acc: 0.8125\n"
     ]
    }
   ],
   "source": [
    "model.compile(optimizer='sgd',\n",
    "              loss='binary_crossentropy',\n",
    "              metrics=['accuracy'])\n",
    "\n",
    "model1 = model.fit(train_img,\n",
    "                    train_y,\n",
    "                    epochs=100,\n",
    "                    batch_size=32,\n",
    "                    validation_data=(val_img, val_y))"
   ]
  },
  {
   "cell_type": "code",
   "execution_count": 16,
   "metadata": {},
   "outputs": [
    {
     "name": "stdout",
     "output_type": "stream",
     "text": [
      "5216/5216 [==============================] - 3s 504us/step\n"
     ]
    }
   ],
   "source": [
    "results_train = model.evaluate(train_img, train_y)"
   ]
  },
  {
   "cell_type": "code",
   "execution_count": 17,
   "metadata": {},
   "outputs": [
    {
     "name": "stdout",
     "output_type": "stream",
     "text": [
      "624/624 [==============================] - 0s 618us/step\n"
     ]
    }
   ],
   "source": [
    "results_test = model.evaluate(test_img, test_y)"
   ]
  },
  {
   "cell_type": "code",
   "execution_count": 18,
   "metadata": {},
   "outputs": [
    {
     "data": {
      "text/plain": [
       "[0.041776647741272134, 0.9854294478527608]"
      ]
     },
     "execution_count": 18,
     "metadata": {},
     "output_type": "execute_result"
    }
   ],
   "source": [
    "results_train"
   ]
  },
  {
   "cell_type": "code",
   "execution_count": 19,
   "metadata": {
    "scrolled": true
   },
   "outputs": [
    {
     "data": {
      "text/plain": [
       "[1.2119121551513672, 0.7403846153846154]"
      ]
     },
     "execution_count": 19,
     "metadata": {},
     "output_type": "execute_result"
    }
   ],
   "source": [
    "results_test"
   ]
  },
  {
   "cell_type": "markdown",
   "metadata": {},
   "source": [
    "We're able to achieve 98% accuracy on our train data, and 76% on our test data."
   ]
  },
  {
   "cell_type": "markdown",
   "metadata": {},
   "source": [
    "##### Plotting the Results"
   ]
  },
  {
   "cell_type": "markdown",
   "metadata": {},
   "source": [
    "We plotted the training and validation loss in one plot"
   ]
  },
  {
   "cell_type": "code",
   "execution_count": 20,
   "metadata": {},
   "outputs": [
    {
     "data": {
      "image/png": "[encoded data removed]",
      "text/plain": [
       "<Figure size 432x288 with 1 Axes>"
      ]
     },
     "metadata": {
      "needs_background": "light"
     },
     "output_type": "display_data"
    }
   ],
   "source": [
    "plt.clf()\n",
    "\n",
    "import matplotlib.pyplot as plt\n",
    "model_val_dict = model1.history\n",
    "loss_values = model_val_dict[\"loss\"]\n",
    "val_loss_values= model_val_dict[\"val_loss\"]\n",
    "\n",
    "epochs = range(1,len(loss_values) + 1)\n",
    "plt.plot(epochs, loss_values, \"g\", label=\"Training loss\")\n",
    "plt.plot(epochs, val_loss_values, \"blue\", label=\"Validation loss\")\n",
    "\n",
    "plt.title(\"Training and Validation loss\")\n",
    "plt.xlabel(\"Epochs\")\n",
    "plt.ylabel(\"Loss\")\n",
    "plt.legend()\n",
    "plt.show()"
   ]
  },
  {
   "cell_type": "markdown",
   "metadata": {},
   "source": [
    "Here we plot the training accurary with the validation accuracy"
   ]
  },
  {
   "cell_type": "code",
   "execution_count": 21,
   "metadata": {
    "scrolled": false
   },
   "outputs": [
    {
     "data": {
      "image/png": "[encoded data removed]",
      "text/plain": [
       "<Figure size 432x288 with 1 Axes>"
      ]
     },
     "metadata": {
      "needs_background": "light"
     },
     "output_type": "display_data"
    }
   ],
   "source": [
    "plt.clf()\n",
    "\n",
    "acc_values = model_val_dict[\"acc\"]\n",
    "val_acc_values = model_val_dict[\"val_acc\"]\n",
    "\n",
    "plt.plot(epochs, acc_values, \"r\", label=\"Training acc\")\n",
    "plt.plot(epochs, val_acc_values, \"blue\", label=\"Validation acc\")\n",
    "\n",
    "plt.title(\"Training and Validation accuracy\")\n",
    "plt.xlabel(\"Epochs\")\n",
    "plt.ylabel(\"Accuracy\")\n",
    "plt.legend()\n",
    "plt.show()"
   ]
  },
  {
   "cell_type": "markdown",
   "metadata": {},
   "source": [
    "We see some signs of overfitting and testing accuracy at about 74%, although our training accuracy is fairly high. We can do better."
   ]
  },
  {
   "cell_type": "markdown",
   "metadata": {},
   "source": [
    "###### Convolution Operation"
   ]
  },
  {
   "cell_type": "markdown",
   "metadata": {},
   "source": [
    "Here we introduced our convolutional neural network. The convolution step function Conv2d and pooling function are used, as well as additional dropout layers."
   ]
  },
  {
   "cell_type": "code",
   "execution_count": 22,
   "metadata": {},
   "outputs": [
    {
     "name": "stdout",
     "output_type": "stream",
     "text": [
      "_________________________________________________________________\n",
      "Layer (type)                 Output Shape              Param #   \n",
      "=================================================================\n",
      "conv2d_1 (Conv2D)            (None, 148, 148, 32)      896       \n",
      "_________________________________________________________________\n",
      "max_pooling2d_1 (MaxPooling2 (None, 74, 74, 32)        0         \n",
      "_________________________________________________________________\n",
      "conv2d_2 (Conv2D)            (None, 72, 72, 64)        18496     \n",
      "_________________________________________________________________\n",
      "max_pooling2d_2 (MaxPooling2 (None, 36, 36, 64)        0         \n",
      "_________________________________________________________________\n",
      "conv2d_3 (Conv2D)            (None, 34, 34, 128)       73856     \n",
      "_________________________________________________________________\n",
      "max_pooling2d_3 (MaxPooling2 (None, 17, 17, 128)       0         \n",
      "_________________________________________________________________\n",
      "flatten_1 (Flatten)          (None, 36992)             0         \n",
      "_________________________________________________________________\n",
      "dense_5 (Dense)              (None, 512)               18940416  \n",
      "_________________________________________________________________\n",
      "dropout_1 (Dropout)          (None, 512)               0         \n",
      "_________________________________________________________________\n",
      "dense_6 (Dense)              (None, 1)                 513       \n",
      "=================================================================\n",
      "Total params: 19,034,177\n",
      "Trainable params: 19,034,177\n",
      "Non-trainable params: 0\n",
      "_________________________________________________________________\n",
      "None\n"
     ]
    }
   ],
   "source": [
    "model = models.Sequential()\n",
    "model.add(layers.Conv2D(32, (3, 3), activation='relu',\n",
    "                        input_shape=(150 ,150,  3)))\n",
    "model.add(layers.MaxPooling2D((2, 2)))\n",
    "\n",
    "model.add(layers.Conv2D(64, (3, 3), activation='relu'))\n",
    "model.add(layers.MaxPooling2D((2, 2)))\n",
    "\n",
    "model.add(layers.Conv2D(128, (3, 3), activation='relu'))\n",
    "model.add(layers.MaxPooling2D((2, 2)))\n",
    "\n",
    "model.add(layers.Flatten())\n",
    "\n",
    "model.add(layers.Dense(512, activation=\"relu\"))\n",
    "model.add(layers.Dropout(0.4))\n",
    "model.add(layers.Dense(1 , activation='sigmoid'))\n",
    "\n",
    "model.compile(loss='binary_crossentropy',\n",
    "                  optimizer=optimizers.RMSprop(lr=1e-4),\n",
    "                  metrics=['accuracy'])\n",
    "\n",
    "print(model.summary())"
   ]
  },
  {
   "cell_type": "code",
   "execution_count": 23,
   "metadata": {
    "scrolled": true
   },
   "outputs": [
    {
     "name": "stdout",
     "output_type": "stream",
     "text": [
      "Train on 5216 samples, validate on 16 samples\n",
      "Epoch 1/6\n",
      "5216/5216 [==============================] - 171s 33ms/step - loss: 0.5639 - acc: 0.7506 - val_loss: 0.6787 - val_acc: 0.6250\n",
      "Epoch 2/6\n",
      "5216/5216 [==============================] - 170s 33ms/step - loss: 0.3520 - acc: 0.8558 - val_loss: 0.5607 - val_acc: 0.6250\n",
      "Epoch 3/6\n",
      "5216/5216 [==============================] - 170s 33ms/step - loss: 0.2535 - acc: 0.9049 - val_loss: 1.3914 - val_acc: 0.5625\n",
      "Epoch 4/6\n",
      "5216/5216 [==============================] - 172s 33ms/step - loss: 0.1945 - acc: 0.9266 - val_loss: 0.9001 - val_acc: 0.6250\n",
      "Epoch 5/6\n",
      "5216/5216 [==============================] - 171s 33ms/step - loss: 0.1591 - acc: 0.9400 - val_loss: 0.4223 - val_acc: 0.8750\n",
      "Epoch 6/6\n",
      "5216/5216 [==============================] - 170s 33ms/step - loss: 0.1573 - acc: 0.9360 - val_loss: 0.3874 - val_acc: 0.7500\n"
     ]
    }
   ],
   "source": [
    "history = model.fit(train_images,\n",
    "                    train_y,\n",
    "                    epochs=6,\n",
    "                    batch_size=256,\n",
    "                    validation_data=(val_images, val_y))"
   ]
  },
  {
   "cell_type": "code",
   "execution_count": 24,
   "metadata": {},
   "outputs": [
    {
     "name": "stdout",
     "output_type": "stream",
     "text": [
      "5216/5216 [==============================] - 55s 11ms/step\n"
     ]
    }
   ],
   "source": [
    "results_train = model.evaluate(train_images, train_y)"
   ]
  },
  {
   "cell_type": "code",
   "execution_count": 25,
   "metadata": {},
   "outputs": [
    {
     "name": "stdout",
     "output_type": "stream",
     "text": [
      "624/624 [==============================] - 7s 11ms/step\n"
     ]
    }
   ],
   "source": [
    "results_test = model.evaluate(test_images, test_y)"
   ]
  },
  {
   "cell_type": "code",
   "execution_count": 26,
   "metadata": {},
   "outputs": [
    {
     "data": {
      "text/plain": [
       "[0.19498293211489368, 0.9238880368098159]"
      ]
     },
     "execution_count": 26,
     "metadata": {},
     "output_type": "execute_result"
    }
   ],
   "source": [
    "results_train"
   ]
  },
  {
   "cell_type": "code",
   "execution_count": 27,
   "metadata": {},
   "outputs": [
    {
     "data": {
      "text/plain": [
       "[0.4806283666537358, 0.8060897435897436]"
      ]
     },
     "execution_count": 27,
     "metadata": {},
     "output_type": "execute_result"
    }
   ],
   "source": [
    "results_test"
   ]
  },
  {
   "cell_type": "markdown",
   "metadata": {},
   "source": [
    "90% train data and 81% test data"
   ]
  },
  {
   "cell_type": "code",
   "execution_count": 28,
   "metadata": {},
   "outputs": [
    {
     "data": {
      "image/png": "[encoded data removed]",
      "text/plain": [
       "<Figure size 432x288 with 1 Axes>"
      ]
     },
     "metadata": {
      "needs_background": "light"
     },
     "output_type": "display_data"
    }
   ],
   "source": [
    "plt.clf()\n",
    "\n",
    "import matplotlib.pyplot as plt\n",
    "model2_val_dict = history.history\n",
    "loss_values2 = model2_val_dict[\"loss\"]\n",
    "val_loss_values2= model2_val_dict[\"val_loss\"]\n",
    "\n",
    "epochs = range(1,len(loss_values2) + 1)\n",
    "plt.plot(epochs, loss_values2, \"g\", label=\"Training loss\")\n",
    "plt.plot(epochs, val_loss_values2, \"blue\", label=\"Validation loss\")\n",
    "\n",
    "plt.title(\"Training and Validation loss\")\n",
    "plt.xlabel(\"Epochs\")\n",
    "plt.ylabel(\"Loss\")\n",
    "plt.legend()\n",
    "plt.show()"
   ]
  },
  {
   "cell_type": "code",
   "execution_count": 29,
   "metadata": {
    "scrolled": true
   },
   "outputs": [
    {
     "data": {
      "image/png": "[encoded data removed]",
      "text/plain": [
       "<Figure size 432x288 with 1 Axes>"
      ]
     },
     "metadata": {
      "needs_background": "light"
     },
     "output_type": "display_data"
    }
   ],
   "source": [
    "plt.clf()\n",
    "\n",
    "acc_values2 = model2_val_dict[\"acc\"]\n",
    "val_acc_values2 = model2_val_dict[\"val_acc\"]\n",
    "\n",
    "plt.plot(epochs, acc_values2, \"r\", label=\"Training acc\")\n",
    "plt.plot(epochs, val_acc_values2, \"blue\", label=\"Validation acc\")\n",
    "\n",
    "plt.title(\"Training and Validation accuracy\")\n",
    "plt.xlabel(\"Epochs\")\n",
    "plt.ylabel(\"Accuracy\")\n",
    "plt.legend()\n",
    "plt.show()"
   ]
  },
  {
   "cell_type": "markdown",
   "metadata": {},
   "source": [
    "At the cost of having reduced training accuracy, our testing accuracy increased. We also have a reduced difference between training and validation loss, showing less signs of overfitting"
   ]
  },
  {
   "cell_type": "markdown",
   "metadata": {},
   "source": [
    "### Future Improvements"
   ]
  },
  {
   "cell_type": "markdown",
   "metadata": {},
   "source": [
    "Due to the time constraint of the project, future iterations could yield greater testing results through increased epochs. Also, imploying regularization and optimization techniques such as L1 or L2 regularization should be recorded as attempted improvements to the network. Lastly, increasing the dataset or varying the number of training and validation sets could change the network accuracy."
   ]
  }
 ],
 "metadata": {
  "kernelspec": {
   "display_name": "Python 3",
   "language": "python",
   "name": "python3"
  },
  "language_info": {
   "codemirror_mode": {
    "name": "ipython",
    "version": 3
   },
   "file_extension": ".py",
   "mimetype": "text/x-python",
   "name": "python",
   "nbconvert_exporter": "python",
   "pygments_lexer": "ipython3",
   "version": "3.6.6"
  }
 },
 "nbformat": 4,
 "nbformat_minor": 2
}
